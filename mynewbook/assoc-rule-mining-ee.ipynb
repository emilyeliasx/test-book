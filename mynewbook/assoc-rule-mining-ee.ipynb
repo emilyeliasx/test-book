{
 "cells": [
  {
   "cell_type": "markdown",
   "metadata": {},
   "source": [
    "***\n",
    "\n",
    "`## DIA TEAM MEMBER NOTES (DELETE THIS CELL ON CHECKING POINTS BELOW):`\n",
    "\n",
    "`### Text changes required if using different dataset to Online Retail:`\n",
    "\n",
    "- `Change dataset text in \"1. Introduction\"`\n",
    "- `Change text in \"2. Data Exploration\"`\n",
    "\n",
    "***"
   ]
  },
  {
   "cell_type": "markdown",
   "metadata": {},
   "source": [
    "# Association Rule Mining\n",
    "\n",
    "## 1. Introduction\n",
    "\n",
    "The purpose of this notebook is to demonstrate association rule mining, a *Natural Language Processing (NLP)* technique. This procedure aims to observe frequently occurring patterns, correlations or associations within large datasets.\n",
    "\n",
    "An example transnational [dataset](https://archive.ics.uci.edu/ml/datasets/Online+Retail#) which contains all 541,909 transactions occurring between 01/12/2010 and 09/12/2011 for a UK-based and registered non-store online retail has been used in this notebook."
   ]
  },
  {
   "cell_type": "markdown",
   "metadata": {},
   "source": [
    "### 1.1 Import Libraries\n",
    "\n",
    "The cell immediately below houses the import statements for this script. Please run the cell and continue to scroll to the next cell where the tutorial will continue."
   ]
  },
  {
   "cell_type": "code",
   "execution_count": 1,
   "metadata": {},
   "outputs": [],
   "source": [
    "# Data Analysis\n",
    "import pandas as pd \n",
    "\n",
    "# Association Rule Mining\n",
    "from mlxtend.frequent_patterns import apriori \n",
    "from mlxtend.frequent_patterns import association_rules"
   ]
  },
  {
   "cell_type": "markdown",
   "metadata": {},
   "source": [
    "## 2. Data Exploration\n",
    "\n",
    "The cell below explores the sample dataset being used in this demonstration including the pre-processing of the text and one-hot encoding. Each row corresponds to one item ordered with a corresponding InvoiceNo and CustomerID.\n",
    "\n",
    "Some pre-processing has to be done:\n",
    "- remove spaces in 'Description' column\n",
    "- drop rows that don't have InvoiceNo\n",
    "\n",
    "One-hot encoding refers to splitting the 'Description' column, which contains categorical data, to many columns depending on the number of categories present in that column. Each column contains a \"0\" or \"1\" corresponding to which column it has been placed.  "
   ]
  },
  {
   "cell_type": "code",
   "execution_count": 4,
   "metadata": {},
   "outputs": [
    {
     "output_type": "display_data",
     "data": {
      "text/plain": "  InvoiceNo StockCode                          Description  Quantity  \\\n0    536365    85123A   WHITE HANGING HEART T-LIGHT HOLDER         6   \n1    536365     71053                  WHITE METAL LANTERN         6   \n2    536365    84406B       CREAM CUPID HEARTS COAT HANGER         8   \n3    536365    84029G  KNITTED UNION FLAG HOT WATER BOTTLE         6   \n4    536365    84029E       RED WOOLLY HOTTIE WHITE HEART.         6   \n\n          InvoiceDate  UnitPrice  CustomerID         Country  \n0 2010-12-01 08:26:00       2.55     17850.0  United Kingdom  \n1 2010-12-01 08:26:00       3.39     17850.0  United Kingdom  \n2 2010-12-01 08:26:00       2.75     17850.0  United Kingdom  \n3 2010-12-01 08:26:00       3.39     17850.0  United Kingdom  \n4 2010-12-01 08:26:00       3.39     17850.0  United Kingdom  ",
      "text/html": "<div>\n<style scoped>\n    .dataframe tbody tr th:only-of-type {\n        vertical-align: middle;\n    }\n\n    .dataframe tbody tr th {\n        vertical-align: top;\n    }\n\n    .dataframe thead th {\n        text-align: right;\n    }\n</style>\n<table border=\"1\" class=\"dataframe\">\n  <thead>\n    <tr style=\"text-align: right;\">\n      <th></th>\n      <th>InvoiceNo</th>\n      <th>StockCode</th>\n      <th>Description</th>\n      <th>Quantity</th>\n      <th>InvoiceDate</th>\n      <th>UnitPrice</th>\n      <th>CustomerID</th>\n      <th>Country</th>\n    </tr>\n  </thead>\n  <tbody>\n    <tr>\n      <th>0</th>\n      <td>536365</td>\n      <td>85123A</td>\n      <td>WHITE HANGING HEART T-LIGHT HOLDER</td>\n      <td>6</td>\n      <td>2010-12-01 08:26:00</td>\n      <td>2.55</td>\n      <td>17850.0</td>\n      <td>United Kingdom</td>\n    </tr>\n    <tr>\n      <th>1</th>\n      <td>536365</td>\n      <td>71053</td>\n      <td>WHITE METAL LANTERN</td>\n      <td>6</td>\n      <td>2010-12-01 08:26:00</td>\n      <td>3.39</td>\n      <td>17850.0</td>\n      <td>United Kingdom</td>\n    </tr>\n    <tr>\n      <th>2</th>\n      <td>536365</td>\n      <td>84406B</td>\n      <td>CREAM CUPID HEARTS COAT HANGER</td>\n      <td>8</td>\n      <td>2010-12-01 08:26:00</td>\n      <td>2.75</td>\n      <td>17850.0</td>\n      <td>United Kingdom</td>\n    </tr>\n    <tr>\n      <th>3</th>\n      <td>536365</td>\n      <td>84029G</td>\n      <td>KNITTED UNION FLAG HOT WATER BOTTLE</td>\n      <td>6</td>\n      <td>2010-12-01 08:26:00</td>\n      <td>3.39</td>\n      <td>17850.0</td>\n      <td>United Kingdom</td>\n    </tr>\n    <tr>\n      <th>4</th>\n      <td>536365</td>\n      <td>84029E</td>\n      <td>RED WOOLLY HOTTIE WHITE HEART.</td>\n      <td>6</td>\n      <td>2010-12-01 08:26:00</td>\n      <td>3.39</td>\n      <td>17850.0</td>\n      <td>United Kingdom</td>\n    </tr>\n  </tbody>\n</table>\n</div>"
     },
     "metadata": {}
    }
   ],
   "source": [
    "# Step 1: Read in Excel file\n",
    "df = pd.read_excel('online-retail-ee.xlsx')\n",
    "\n",
    "# Step 2: Display first 5 records of dataset\n",
    "# display(df.head())\n",
    "\n",
    "# Step 3: Pre-processing of data\n",
    "df['Description'] = df['Description'].str.strip()\n",
    "df.dropna(axis = 0, subset = ['InvoiceNo'], inplace = True)\n",
    "df['InvoiceNo'] = df['InvoiceNo'].astype('str')\n",
    "\n",
    "# Step 4: Display first 5 records of pre-processed dataset\n",
    "display(df.head())\n",
    "\n",
    "# Step 5: One-hot encoding function\n",
    "def encode_units(x):\n",
    "    if x <= 0:\n",
    "        return 0\n",
    "    if x >= 1:\n",
    "        return 1"
   ]
  },
  {
   "cell_type": "markdown",
   "metadata": {},
   "source": [
    "## 3. Association Rule Mining\n",
    "\n",
    "To conduct association rule mining, the *Apriori* algorithm is used. There are three main components that comprise the algorithm:\n",
    "- *Support*: how frequently a product appears in the dataset\n",
    "- *Confidence*: the likelihood that a purchasing order contains product X and product Y together. If the confidence value is 1, then the algorithm detected that both products are purchased together all of the time\n",
    "- *Lift*: the increase in the ratio of the purchasing order of product X when product Y is also purchased. If the lift value is less than 1, it entails that the purchasing order is unlikely to contain both items together. The greater the value, the better the combination of the products. For example, a lift value of 5 infers that the likelihood of a client having the suggestion of claiming child benefit and lowering their mortgage payments together is five times more than that of suggesting claiming child benefit alone."
   ]
  },
  {
   "cell_type": "markdown",
   "metadata": {},
   "source": [
    "### 3.1 Example 1\n",
    "\n",
    "The cell below conducts association rule mining on the example dataset. The association rules displayed are limited to having a support value of at least 7%, life value of at least 6 and a confidence larger than 0.8."
   ]
  },
  {
   "cell_type": "code",
   "execution_count": 5,
   "metadata": {},
   "outputs": [
    {
     "output_type": "display_data",
     "data": {
      "text/plain": "                                          antecedents  \\\n58                    (SET/6 RED SPOTTY PAPER PLATES)   \n59                      (SET/6 RED SPOTTY PAPER CUPS)   \n85           (SET/6 RED SPOTTY PAPER PLATES, POSTAGE)   \n86             (SET/6 RED SPOTTY PAPER CUPS, POSTAGE)   \n90  (SET/6 RED SPOTTY PAPER PLATES, SET/6 RED SPOT...   \n91  (SET/6 RED SPOTTY PAPER PLATES, SET/20 RED RET...   \n92  (SET/6 RED SPOTTY PAPER CUPS, SET/20 RED RETRO...   \n\n                             consequents  antecedent support  \\\n58         (SET/6 RED SPOTTY PAPER CUPS)            0.108460   \n59       (SET/6 RED SPOTTY PAPER PLATES)            0.117137   \n85         (SET/6 RED SPOTTY PAPER CUPS)            0.091106   \n86       (SET/6 RED SPOTTY PAPER PLATES)            0.099783   \n90  (SET/20 RED RETROSPOT PAPER NAPKINS)            0.104121   \n91         (SET/6 RED SPOTTY PAPER CUPS)            0.086768   \n92       (SET/6 RED SPOTTY PAPER PLATES)            0.086768   \n\n    consequent support   support  confidence      lift  leverage  conviction  \n58            0.117137  0.104121    0.960000  8.195556  0.091417   22.071584  \n59            0.108460  0.104121    0.888889  8.195556  0.091417    8.023861  \n85            0.117137  0.086768    0.952381  8.130511  0.076096   18.540130  \n86            0.108460  0.086768    0.869565  8.017391  0.075945    6.835141  \n90            0.112798  0.084599    0.812500  7.203125  0.072854    4.731743  \n91            0.117137  0.084599    0.975000  8.323611  0.074435   35.314534  \n92            0.108460  0.084599    0.975000  8.989500  0.075188   35.661605  ",
      "text/html": "<div>\n<style scoped>\n    .dataframe tbody tr th:only-of-type {\n        vertical-align: middle;\n    }\n\n    .dataframe tbody tr th {\n        vertical-align: top;\n    }\n\n    .dataframe thead th {\n        text-align: right;\n    }\n</style>\n<table border=\"1\" class=\"dataframe\">\n  <thead>\n    <tr style=\"text-align: right;\">\n      <th></th>\n      <th>antecedents</th>\n      <th>consequents</th>\n      <th>antecedent support</th>\n      <th>consequent support</th>\n      <th>support</th>\n      <th>confidence</th>\n      <th>lift</th>\n      <th>leverage</th>\n      <th>conviction</th>\n    </tr>\n  </thead>\n  <tbody>\n    <tr>\n      <th>58</th>\n      <td>(SET/6 RED SPOTTY PAPER PLATES)</td>\n      <td>(SET/6 RED SPOTTY PAPER CUPS)</td>\n      <td>0.108460</td>\n      <td>0.117137</td>\n      <td>0.104121</td>\n      <td>0.960000</td>\n      <td>8.195556</td>\n      <td>0.091417</td>\n      <td>22.071584</td>\n    </tr>\n    <tr>\n      <th>59</th>\n      <td>(SET/6 RED SPOTTY PAPER CUPS)</td>\n      <td>(SET/6 RED SPOTTY PAPER PLATES)</td>\n      <td>0.117137</td>\n      <td>0.108460</td>\n      <td>0.104121</td>\n      <td>0.888889</td>\n      <td>8.195556</td>\n      <td>0.091417</td>\n      <td>8.023861</td>\n    </tr>\n    <tr>\n      <th>85</th>\n      <td>(SET/6 RED SPOTTY PAPER PLATES, POSTAGE)</td>\n      <td>(SET/6 RED SPOTTY PAPER CUPS)</td>\n      <td>0.091106</td>\n      <td>0.117137</td>\n      <td>0.086768</td>\n      <td>0.952381</td>\n      <td>8.130511</td>\n      <td>0.076096</td>\n      <td>18.540130</td>\n    </tr>\n    <tr>\n      <th>86</th>\n      <td>(SET/6 RED SPOTTY PAPER CUPS, POSTAGE)</td>\n      <td>(SET/6 RED SPOTTY PAPER PLATES)</td>\n      <td>0.099783</td>\n      <td>0.108460</td>\n      <td>0.086768</td>\n      <td>0.869565</td>\n      <td>8.017391</td>\n      <td>0.075945</td>\n      <td>6.835141</td>\n    </tr>\n    <tr>\n      <th>90</th>\n      <td>(SET/6 RED SPOTTY PAPER PLATES, SET/6 RED SPOT...</td>\n      <td>(SET/20 RED RETROSPOT PAPER NAPKINS)</td>\n      <td>0.104121</td>\n      <td>0.112798</td>\n      <td>0.084599</td>\n      <td>0.812500</td>\n      <td>7.203125</td>\n      <td>0.072854</td>\n      <td>4.731743</td>\n    </tr>\n    <tr>\n      <th>91</th>\n      <td>(SET/6 RED SPOTTY PAPER PLATES, SET/20 RED RET...</td>\n      <td>(SET/6 RED SPOTTY PAPER CUPS)</td>\n      <td>0.086768</td>\n      <td>0.117137</td>\n      <td>0.084599</td>\n      <td>0.975000</td>\n      <td>8.323611</td>\n      <td>0.074435</td>\n      <td>35.314534</td>\n    </tr>\n    <tr>\n      <th>92</th>\n      <td>(SET/6 RED SPOTTY PAPER CUPS, SET/20 RED RETRO...</td>\n      <td>(SET/6 RED SPOTTY PAPER PLATES)</td>\n      <td>0.086768</td>\n      <td>0.108460</td>\n      <td>0.084599</td>\n      <td>0.975000</td>\n      <td>8.989500</td>\n      <td>0.075188</td>\n      <td>35.661605</td>\n    </tr>\n  </tbody>\n</table>\n</div>"
     },
     "metadata": {}
    }
   ],
   "source": [
    "# Step 1: Create basket containing all French orders\n",
    "basket = (df[df['Country'] == \"France\"]\n",
    "            .groupby(['InvoiceNo', 'Description'])['Quantity']\n",
    "            .sum().unstack().reset_index().fillna(0)\n",
    "            .set_index('InvoiceNo'))\n",
    "\n",
    "# Step 2: One-hot encoding\n",
    "basket_sets = basket.applymap(encode_units)\n",
    "\n",
    "# Step 3: Generate frequent itemsets with a support of at least 7%\n",
    "frequent_itemsets = apriori(basket_sets, min_support=0.07, use_colnames = True)\n",
    "\n",
    "# Step 4: Generate association rules\n",
    "rules = association_rules(frequent_itemsets, metric = \"lift\", min_threshold=1)\n",
    "\n",
    "# Step 5: Display association rules with a lift higher or equal to 6 and a confidence higher than or equal to 0.8\n",
    "display(rules[(rules['lift'] >= 6) &\n",
    "    (rules['confidence'] >= 0.8)])"
   ]
  },
  {
   "cell_type": "markdown",
   "metadata": {},
   "source": [
    "### 3.2 Example 2\n",
    "\n",
    "The following cell generates association rules for all orders in the UK with a minimum support of 5%, a lift higher than 8 and a confidence value of at least 0.5."
   ]
  },
  {
   "cell_type": "code",
   "execution_count": 6,
   "metadata": {},
   "outputs": [
    {
     "output_type": "display_data",
     "data": {
      "text/plain": "                                          antecedents  \\\n58                    (SET/6 RED SPOTTY PAPER PLATES)   \n59                      (SET/6 RED SPOTTY PAPER CUPS)   \n85           (SET/6 RED SPOTTY PAPER PLATES, POSTAGE)   \n86             (SET/6 RED SPOTTY PAPER CUPS, POSTAGE)   \n87                    (SET/6 RED SPOTTY PAPER PLATES)   \n88                      (SET/6 RED SPOTTY PAPER CUPS)   \n91  (SET/6 RED SPOTTY PAPER PLATES, SET/20 RED RET...   \n92  (SET/6 RED SPOTTY PAPER CUPS, SET/20 RED RETRO...   \n93                    (SET/6 RED SPOTTY PAPER PLATES)   \n94                      (SET/6 RED SPOTTY PAPER CUPS)   \n\n                                          consequents  antecedent support  \\\n58                      (SET/6 RED SPOTTY PAPER CUPS)            0.108460   \n59                    (SET/6 RED SPOTTY PAPER PLATES)            0.117137   \n85                      (SET/6 RED SPOTTY PAPER CUPS)            0.091106   \n86                    (SET/6 RED SPOTTY PAPER PLATES)            0.099783   \n87             (SET/6 RED SPOTTY PAPER CUPS, POSTAGE)            0.108460   \n88           (SET/6 RED SPOTTY PAPER PLATES, POSTAGE)            0.117137   \n91                      (SET/6 RED SPOTTY PAPER CUPS)            0.086768   \n92                    (SET/6 RED SPOTTY PAPER PLATES)            0.086768   \n93  (SET/6 RED SPOTTY PAPER CUPS, SET/20 RED RETRO...            0.108460   \n94  (SET/6 RED SPOTTY PAPER PLATES, SET/20 RED RET...            0.117137   \n\n    consequent support   support  confidence      lift  leverage  conviction  \n58            0.117137  0.104121    0.960000  8.195556  0.091417   22.071584  \n59            0.108460  0.104121    0.888889  8.195556  0.091417    8.023861  \n85            0.117137  0.086768    0.952381  8.130511  0.076096   18.540130  \n86            0.108460  0.086768    0.869565  8.017391  0.075945    6.835141  \n87            0.099783  0.086768    0.800000  8.017391  0.075945    4.501085  \n88            0.091106  0.086768    0.740741  8.130511  0.076096    3.505733  \n91            0.117137  0.084599    0.975000  8.323611  0.074435   35.314534  \n92            0.108460  0.084599    0.975000  8.989500  0.075188   35.661605  \n93            0.086768  0.084599    0.780000  8.989500  0.075188    4.151055  \n94            0.086768  0.084599    0.722222  8.323611  0.074435    3.287636  ",
      "text/html": "<div>\n<style scoped>\n    .dataframe tbody tr th:only-of-type {\n        vertical-align: middle;\n    }\n\n    .dataframe tbody tr th {\n        vertical-align: top;\n    }\n\n    .dataframe thead th {\n        text-align: right;\n    }\n</style>\n<table border=\"1\" class=\"dataframe\">\n  <thead>\n    <tr style=\"text-align: right;\">\n      <th></th>\n      <th>antecedents</th>\n      <th>consequents</th>\n      <th>antecedent support</th>\n      <th>consequent support</th>\n      <th>support</th>\n      <th>confidence</th>\n      <th>lift</th>\n      <th>leverage</th>\n      <th>conviction</th>\n    </tr>\n  </thead>\n  <tbody>\n    <tr>\n      <th>58</th>\n      <td>(SET/6 RED SPOTTY PAPER PLATES)</td>\n      <td>(SET/6 RED SPOTTY PAPER CUPS)</td>\n      <td>0.108460</td>\n      <td>0.117137</td>\n      <td>0.104121</td>\n      <td>0.960000</td>\n      <td>8.195556</td>\n      <td>0.091417</td>\n      <td>22.071584</td>\n    </tr>\n    <tr>\n      <th>59</th>\n      <td>(SET/6 RED SPOTTY PAPER CUPS)</td>\n      <td>(SET/6 RED SPOTTY PAPER PLATES)</td>\n      <td>0.117137</td>\n      <td>0.108460</td>\n      <td>0.104121</td>\n      <td>0.888889</td>\n      <td>8.195556</td>\n      <td>0.091417</td>\n      <td>8.023861</td>\n    </tr>\n    <tr>\n      <th>85</th>\n      <td>(SET/6 RED SPOTTY PAPER PLATES, POSTAGE)</td>\n      <td>(SET/6 RED SPOTTY PAPER CUPS)</td>\n      <td>0.091106</td>\n      <td>0.117137</td>\n      <td>0.086768</td>\n      <td>0.952381</td>\n      <td>8.130511</td>\n      <td>0.076096</td>\n      <td>18.540130</td>\n    </tr>\n    <tr>\n      <th>86</th>\n      <td>(SET/6 RED SPOTTY PAPER CUPS, POSTAGE)</td>\n      <td>(SET/6 RED SPOTTY PAPER PLATES)</td>\n      <td>0.099783</td>\n      <td>0.108460</td>\n      <td>0.086768</td>\n      <td>0.869565</td>\n      <td>8.017391</td>\n      <td>0.075945</td>\n      <td>6.835141</td>\n    </tr>\n    <tr>\n      <th>87</th>\n      <td>(SET/6 RED SPOTTY PAPER PLATES)</td>\n      <td>(SET/6 RED SPOTTY PAPER CUPS, POSTAGE)</td>\n      <td>0.108460</td>\n      <td>0.099783</td>\n      <td>0.086768</td>\n      <td>0.800000</td>\n      <td>8.017391</td>\n      <td>0.075945</td>\n      <td>4.501085</td>\n    </tr>\n    <tr>\n      <th>88</th>\n      <td>(SET/6 RED SPOTTY PAPER CUPS)</td>\n      <td>(SET/6 RED SPOTTY PAPER PLATES, POSTAGE)</td>\n      <td>0.117137</td>\n      <td>0.091106</td>\n      <td>0.086768</td>\n      <td>0.740741</td>\n      <td>8.130511</td>\n      <td>0.076096</td>\n      <td>3.505733</td>\n    </tr>\n    <tr>\n      <th>91</th>\n      <td>(SET/6 RED SPOTTY PAPER PLATES, SET/20 RED RET...</td>\n      <td>(SET/6 RED SPOTTY PAPER CUPS)</td>\n      <td>0.086768</td>\n      <td>0.117137</td>\n      <td>0.084599</td>\n      <td>0.975000</td>\n      <td>8.323611</td>\n      <td>0.074435</td>\n      <td>35.314534</td>\n    </tr>\n    <tr>\n      <th>92</th>\n      <td>(SET/6 RED SPOTTY PAPER CUPS, SET/20 RED RETRO...</td>\n      <td>(SET/6 RED SPOTTY PAPER PLATES)</td>\n      <td>0.086768</td>\n      <td>0.108460</td>\n      <td>0.084599</td>\n      <td>0.975000</td>\n      <td>8.989500</td>\n      <td>0.075188</td>\n      <td>35.661605</td>\n    </tr>\n    <tr>\n      <th>93</th>\n      <td>(SET/6 RED SPOTTY PAPER PLATES)</td>\n      <td>(SET/6 RED SPOTTY PAPER CUPS, SET/20 RED RETRO...</td>\n      <td>0.108460</td>\n      <td>0.086768</td>\n      <td>0.084599</td>\n      <td>0.780000</td>\n      <td>8.989500</td>\n      <td>0.075188</td>\n      <td>4.151055</td>\n    </tr>\n    <tr>\n      <th>94</th>\n      <td>(SET/6 RED SPOTTY PAPER CUPS)</td>\n      <td>(SET/6 RED SPOTTY PAPER PLATES, SET/20 RED RET...</td>\n      <td>0.117137</td>\n      <td>0.086768</td>\n      <td>0.084599</td>\n      <td>0.722222</td>\n      <td>8.323611</td>\n      <td>0.074435</td>\n      <td>3.287636</td>\n    </tr>\n  </tbody>\n</table>\n</div>"
     },
     "metadata": {}
    }
   ],
   "source": [
    "# Step 1: Create basket containing all UK orders\n",
    "basket2 = (df[df['Country'] == \"United Kingdom\"]\n",
    "            .groupby(['InvoiceNo', 'Description'])['Quantity']\n",
    "            .sum().unstack().reset_index().fillna(0)\n",
    "            .set_index('InvoiceNo'))\n",
    "\n",
    "# Step 2: One-hot encoding\n",
    "basket_sets2 = basket2.applymap(encode_units)\n",
    "\n",
    "# Step 3: Generate frequent itemsets with a support of at least 5%\n",
    "frequeny_itemsets2 = apriori(basket_sets2, min_support=0.05, use_colnames = True)\n",
    "\n",
    "# Step 4: Generate association rules\n",
    "rules2 = association_rules(frequeny_itemsets2, metric = \"lift\", min_threshold=1)\n",
    "\n",
    "# Step 5: Display association rules with a lift higher or equal to 8 and a confidence higher than or equal to 0.5\n",
    "display(rules[(rules['lift'] >= 8) &\n",
    "    (rules['confidence'] >= 0.5)])"
   ]
  },
  {
   "cell_type": "code",
   "execution_count": null,
   "metadata": {},
   "outputs": [],
   "source": []
  }
 ],
 "metadata": {
  "file_extension": ".py",
  "kernelspec": {
   "display_name": "'Python Interactive'",
   "language": "python",
   "name": "0b63ad30-d810-40e6-b290-b7d7908286d1"
  },
  "language_info": {
   "codemirror_mode": {
    "name": "ipython",
    "version": 3
   },
   "file_extension": ".py",
   "mimetype": "text/x-python",
   "name": "python",
   "nbconvert_exporter": "python",
   "pygments_lexer": "ipython3",
   "version": "3.7.4-final"
  },
  "mimetype": "text/x-python",
  "name": "python",
  "npconvert_exporter": "python",
  "pygments_lexer": "ipython3",
  "version": 3
 },
 "nbformat": 4,
 "nbformat_minor": 4
}