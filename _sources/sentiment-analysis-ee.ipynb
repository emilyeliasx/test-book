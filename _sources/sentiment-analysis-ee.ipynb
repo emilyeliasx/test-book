{
 "cells": [
  {
   "cell_type": "markdown",
   "metadata": {},
   "source": [
    "***\n",
    "\n",
    "`## DIA TEAM MEMBER NOTES (DELETE THIS CELL ON CHECKING POINTS BELOW):`\n",
    "\n",
    "`### Text changes required if using different dataset to Amazon's Fine Food Reviews:`\n",
    "\n",
    "- `Change title of notebook`\n",
    "- `Change dataset text in \"1. Introduction\"`\n",
    "- `Change dataset text in \"2. Data\"`\n",
    "\n",
    "***"
   ]
  },
  {
   "cell_type": "markdown",
   "metadata": {},
   "source": [
    "# Sentiment Detection within Comments\n",
    "\n",
    "## 1. Introduction\n",
    "\n",
    "The purpose of this notebook is to demonstrate *Sentiment Analysis*, a *Natural Language Processing (NLP)* technique. This procedure aims to detect sentiment within text.\n",
    "\n",
    "A subsample of the *Amazon* fine food reviews [dataset](https://www.kaggle.com/snap/amazon-fine-food-reviews) has been used in this notebook."
   ]
  },
  {
   "cell_type": "markdown",
   "metadata": {},
   "source": [
    "### 1.1 Import Libraries\n",
    "\n",
    "The cell immediately below houses the import statements for this script. Please run the cell and continue to scroll to the next cell where the tutorial will continue."
   ]
  },
  {
   "cell_type": "code",
   "execution_count": 1,
   "metadata": {},
   "outputs": [],
   "source": [
    "# Data Analysis\n",
    "import pandas as pd\n",
    "\n",
    "# Sentiment Analysis\n",
    "from vaderSentiment.vaderSentiment import SentimentIntensityAnalyzer"
   ]
  },
  {
   "cell_type": "markdown",
   "metadata": {},
   "source": [
    "## 2. Data\n",
    "\n",
    "The cell below shows the top 10 records of the fine foods review dataset which is being used in this demonstration. In this case we are only interested in the 'Text' column."
   ]
  },
  {
   "cell_type": "code",
   "execution_count": 11,
   "metadata": {},
   "outputs": [
    {
     "output_type": "display_data",
     "data": {
      "text/plain": "   Id   ProductId          UserId                      ProfileName  \\\n0   1  B001E4KFG0  A3SGXH7AUHU8GW                       delmartian   \n1   2  B00813GRG4  A1D87F6ZCVE5NK                           dll pa   \n2   3  B000LQOCH0   ABXLMWJIXXAIN  Natalia Corres \"Natalia Corres\"   \n3   4  B000UA0QIQ  A395BORC6FGVXV                             Karl   \n4   5  B006K2ZZ7K  A1UQRSCLF8GW1T    Michael D. Bigham \"M. Wassir\"   \n\n   HelpfulnessNumerator  HelpfulnessDenominator  Score        Time  \\\n0                     1                       1      5  1303862400   \n1                     0                       0      1  1346976000   \n2                     1                       1      4  1219017600   \n3                     3                       3      2  1307923200   \n4                     0                       0      5  1350777600   \n\n                 Summary                                               Text  \n0  Good Quality Dog Food  I have bought several of the Vitality canned d...  \n1      Not as Advertised  Product arrived labeled as Jumbo Salted Peanut...  \n2  \"Delight\" says it all  This is a confection that has been around a fe...  \n3         Cough Medicine  If you are looking for the secret ingredient i...  \n4            Great taffy  Great taffy at a great price.  There was a wid...  ",
      "text/html": "<div>\n<style scoped>\n    .dataframe tbody tr th:only-of-type {\n        vertical-align: middle;\n    }\n\n    .dataframe tbody tr th {\n        vertical-align: top;\n    }\n\n    .dataframe thead th {\n        text-align: right;\n    }\n</style>\n<table border=\"1\" class=\"dataframe\">\n  <thead>\n    <tr style=\"text-align: right;\">\n      <th></th>\n      <th>Id</th>\n      <th>ProductId</th>\n      <th>UserId</th>\n      <th>ProfileName</th>\n      <th>HelpfulnessNumerator</th>\n      <th>HelpfulnessDenominator</th>\n      <th>Score</th>\n      <th>Time</th>\n      <th>Summary</th>\n      <th>Text</th>\n    </tr>\n  </thead>\n  <tbody>\n    <tr>\n      <th>0</th>\n      <td>1</td>\n      <td>B001E4KFG0</td>\n      <td>A3SGXH7AUHU8GW</td>\n      <td>delmartian</td>\n      <td>1</td>\n      <td>1</td>\n      <td>5</td>\n      <td>1303862400</td>\n      <td>Good Quality Dog Food</td>\n      <td>I have bought several of the Vitality canned d...</td>\n    </tr>\n    <tr>\n      <th>1</th>\n      <td>2</td>\n      <td>B00813GRG4</td>\n      <td>A1D87F6ZCVE5NK</td>\n      <td>dll pa</td>\n      <td>0</td>\n      <td>0</td>\n      <td>1</td>\n      <td>1346976000</td>\n      <td>Not as Advertised</td>\n      <td>Product arrived labeled as Jumbo Salted Peanut...</td>\n    </tr>\n    <tr>\n      <th>2</th>\n      <td>3</td>\n      <td>B000LQOCH0</td>\n      <td>ABXLMWJIXXAIN</td>\n      <td>Natalia Corres \"Natalia Corres\"</td>\n      <td>1</td>\n      <td>1</td>\n      <td>4</td>\n      <td>1219017600</td>\n      <td>\"Delight\" says it all</td>\n      <td>This is a confection that has been around a fe...</td>\n    </tr>\n    <tr>\n      <th>3</th>\n      <td>4</td>\n      <td>B000UA0QIQ</td>\n      <td>A395BORC6FGVXV</td>\n      <td>Karl</td>\n      <td>3</td>\n      <td>3</td>\n      <td>2</td>\n      <td>1307923200</td>\n      <td>Cough Medicine</td>\n      <td>If you are looking for the secret ingredient i...</td>\n    </tr>\n    <tr>\n      <th>4</th>\n      <td>5</td>\n      <td>B006K2ZZ7K</td>\n      <td>A1UQRSCLF8GW1T</td>\n      <td>Michael D. Bigham \"M. Wassir\"</td>\n      <td>0</td>\n      <td>0</td>\n      <td>5</td>\n      <td>1350777600</td>\n      <td>Great taffy</td>\n      <td>Great taffy at a great price.  There was a wid...</td>\n    </tr>\n  </tbody>\n</table>\n</div>"
     },
     "metadata": {}
    }
   ],
   "source": [
    "# Step 1: Read in data and print\n",
    "df = pd.read_csv('fine-food-reviews-ee.csv')\n",
    "display(df.head())\n",
    "\n",
    "# Step 2: Retrieve the top 10 reviews for demonstration purposes\n",
    "df = df[:10]\n",
    "\n",
    "# Step 3: Convert 'Text' column to list\n",
    "review_list = df['Text'].tolist()\n",
    "# print(review_list)"
   ]
  },
  {
   "cell_type": "markdown",
   "metadata": {},
   "source": [
    "## 3. Sentiment Analysis\n",
    "\n",
    "In the following cell, we apply `VADER`, a sentiment analysis tool, to the top 10 reviews in the example dataset.\n",
    "\n",
    "Once `VADER` is installed, we call the `SentimentIntensityAnalyzer` object. We will use the `polarity_scores()` method to obtain the polarity indices for a given review."
   ]
  },
  {
   "cell_type": "code",
   "execution_count": 12,
   "metadata": {
    "tags": []
   },
   "outputs": [
    {
     "output_type": "stream",
     "name": "stdout",
     "text": "I have bought several of the Vitality canned dog food products and have found them all to be of good quality. The product looks more like a stew than a processed meat and it smells better. My Labrador is finicky and she appreciates this product better than  most. \n\nCompound Score:  {'neg': 0.0, 'neu': 0.695, 'pos': 0.305, 'compound': 0.9441}\nOverall Sentiment: Positive \n\n------------------------------------------------------------------------------------------------\nProduct arrived labeled as Jumbo Salted Peanuts...the peanuts were actually small sized unsalted. Not sure if this was an error or if the vendor intended to represent the product as \"Jumbo\". \n\nCompound Score:  {'neg': 0.138, 'neu': 0.862, 'pos': 0.0, 'compound': -0.5664}\nOverall Sentiment: Negative \n\n------------------------------------------------------------------------------------------------\nThis is a confection that has been around a few centuries.  It is a light, pillowy citrus gelatin with nuts - in this case Filberts. And it is cut into tiny squares and then liberally coated with powdered sugar.  And it is a tiny mouthful of heaven.  Not too chewy, and very flavorful.  I highly recommend this yummy treat.  If you are familiar with the story of C.S. Lewis' \"The Lion, The Witch, and The Wardrobe\" - this is the treat that seduces Edmund into selling out his Brother and Sisters to the Witch. \n\nCompound Score:  {'neg': 0.091, 'neu': 0.754, 'pos': 0.155, 'compound': 0.8265}\nOverall Sentiment: Positive \n\n------------------------------------------------------------------------------------------------\nIf you are looking for the secret ingredient in Robitussin I believe I have found it.  I got this in addition to the Root Beer Extract I ordered (which was good) and made some cherry soda.  The flavor is very medicinal. \n\nCompound Score:  {'neg': 0.0, 'neu': 1.0, 'pos': 0.0, 'compound': 0.0}\nOverall Sentiment: Neutral \n\n------------------------------------------------------------------------------------------------\nGreat taffy at a great price.  There was a wide assortment of yummy taffy.  Delivery was very quick.  If your a taffy lover, this is a deal. \n\nCompound Score:  {'neg': 0.0, 'neu': 0.552, 'pos': 0.448, 'compound': 0.9468}\nOverall Sentiment: Positive \n\n------------------------------------------------------------------------------------------------\nI got a wild hair for taffy and ordered this five pound bag. The taffy was all very enjoyable with many flavors: watermelon, root beer, melon, peppermint, grape, etc. My only complaint is there was a bit too much red/black licorice-flavored pieces (just not my particular favorites). Between me, my kids, and my husband, this lasted only two weeks! I would recommend this brand of taffy -- it was a delightful treat. \n\nCompound Score:  {'neg': 0.029, 'neu': 0.809, 'pos': 0.163, 'compound': 0.883}\nOverall Sentiment: Positive \n\n------------------------------------------------------------------------------------------------\nThis saltwater taffy had great flavors and was very soft and chewy.  Each candy was individually wrapped well.  None of the candies were stuck together, which did happen in the expensive version, Fralinger's.  Would highly recommend this candy!  I served it at a beach-themed party and everyone loved it! \n\nCompound Score:  {'neg': 0.034, 'neu': 0.693, 'pos': 0.273, 'compound': 0.9346}\nOverall Sentiment: Positive \n\n------------------------------------------------------------------------------------------------\nThis taffy is so good.  It is very soft and chewy.  The flavors are amazing.  I would definitely recommend you buying it.  Very satisfying!! \n\nCompound Score:  {'neg': 0.0, 'neu': 0.52, 'pos': 0.48, 'compound': 0.9487}\nOverall Sentiment: Positive \n\n------------------------------------------------------------------------------------------------\nRight now I'm mostly just sprouting this so my cats can eat the grass. They love it. I rotate it around with Wheatgrass and Rye too \n\nCompound Score:  {'neg': 0.0, 'neu': 0.851, 'pos': 0.149, 'compound': 0.6369}\nOverall Sentiment: Positive \n\n------------------------------------------------------------------------------------------------\nThis is a very healthy dog food. Good for their digestion. Also good for small puppies. My dog eats her required amount at every feeding. \n\nCompound Score:  {'neg': 0.0, 'neu': 0.705, 'pos': 0.295, 'compound': 0.8313}\nOverall Sentiment: Positive \n\n------------------------------------------------------------------------------------------------\n"
    }
   ],
   "source": [
    "# Step 1: Initialise 'SentimentIntensityAnalyzer' object\n",
    "analyser = SentimentIntensityAnalyzer()\n",
    "\n",
    "# Step 2: Classify reviews by sentiment on *compound score*\n",
    "def sentiment_analyzer_scores(review_comments):\n",
    "    for i in review_comments:\n",
    "        score = analyser.polarity_scores(i)\n",
    "        if score['compound'] >= 0.05:\n",
    "            print(i, \"\\n\")\n",
    "            print(\"Compound Score: \", score)\n",
    "            print(\"Overall Sentiment: Positive\", \"\\n\")\n",
    "            print(\"------------------------------------------------------------------------------------------------\")\n",
    "        elif score['compound'] <= - 0.05:\n",
    "            print(i, \"\\n\")\n",
    "            print(\"Compound Score: \", score)\n",
    "            print(\"Overall Sentiment: Negative\", \"\\n\")\n",
    "            print(\"------------------------------------------------------------------------------------------------\")\n",
    "        else:\n",
    "            print(i, \"\\n\")\n",
    "            print(\"Compound Score: \", score)\n",
    "            print(\"Overall Sentiment: Neutral\", \"\\n\")\n",
    "            print(\"------------------------------------------------------------------------------------------------\")\n",
    "\n",
    "sentiment_scores = sentiment_analyzer_scores(review_list)"
   ]
  }
 ],
 "metadata": {
  "kernelspec": {
   "display_name": "Python 3",
   "language": "python",
   "name": "python3"
  },
  "language_info": {
   "codemirror_mode": {
    "name": "ipython",
    "version": 3
   },
   "file_extension": ".py",
   "mimetype": "text/x-python",
   "name": "python",
   "nbconvert_exporter": "python",
   "pygments_lexer": "ipython3",
   "version": "3.7.4-final"
  }
 },
 "nbformat": 4,
 "nbformat_minor": 4
}