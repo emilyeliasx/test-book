{
 "metadata": {
  "language_info": {
   "codemirror_mode": {
    "name": "ipython",
    "version": 3
   },
   "file_extension": ".py",
   "mimetype": "text/x-python",
   "name": "python",
   "nbconvert_exporter": "python",
   "pygments_lexer": "ipython3",
   "version": "3.7.4-final"
  },
  "orig_nbformat": 2,
  "kernelspec": {
   "name": "0b63ad30-d810-40e6-b290-b7d7908286d1",
   "display_name": "'Python Interactive'"
  }
 },
 "nbformat": 4,
 "nbformat_minor": 2,
 "cells": [
  {
   "cell_type": "markdown",
   "metadata": {},
   "source": [
    "# Detecting Emotion within Discussion Comments \n",
    " \n",
    "The ability to automatically detect the sentiment expressed in textual data will provide Cath's Cabs with a greater insight into the nuance of the comments associated with research notes. This functionality will support further analysis into the correlation between a comment and a researcher's notes. For example, a comment that has a positive sentiment may be linked to a user gaining valuable information from such note and could contribute to a ranking system in terms of usefulness of research notes. Such a feature could greatly innovate Cath's Cabs's software. \n",
    "\n",
    "Sentiment Analysis is an area of NLP which aims to automatically identify and extract opinions within a given text by gauging the attitude, sentiment, evaluation and emotion of a speaker/writer based on the computational treatment of the text.\n",
    "\n",
    "The demonstration reports the results of VADER and the Tone Analyzer classifications for the five example comments. Both VADER and IBM's Tone Analyzer produce a score which correlates to the associated sentiment/emotion. As mentioned above, VADER's score is based off of three different thresholds in relation to the compound score whereas the Tone Analyzer is on a scale of zero to one. A score of 0.75 or higher means it's likely that the emotional indicators are spot-on.\n",
    " \n"
   ]
  },
  {
   "cell_type": "code",
   "execution_count": 10,
   "metadata": {
    "tags": []
   },
   "outputs": [
    {
     "output_type": "stream",
     "name": "stdout",
     "text": "I have bought several of the Vitality canned dog food products and have found them all to be of good quality. The product looks more like a stew than a processed meat and it smells better. My Labrador is finicky and she appreciates this product better than  most. \n\nCompound Score:  {'neg': 0.0, 'neu': 0.695, 'pos': 0.305, 'compound': 0.9441}\nOverall Sentiment: Positive \n\n------------------------------------------------------------------------------------------------\nProduct arrived labeled as Jumbo Salted Peanuts...the peanuts were actually small sized unsalted. Not sure if this was an error or if the vendor intended to represent the product as \"Jumbo\". \n\nCompound Score:  {'neg': 0.138, 'neu': 0.862, 'pos': 0.0, 'compound': -0.5664}\nOverall Sentiment: Negative \n\n------------------------------------------------------------------------------------------------\nThis is a confection that has been around a few centuries.  It is a light, pillowy citrus gelatin with nuts - in this case Filberts. And it is cut into tiny squares and then liberally coated with powdered sugar.  And it is a tiny mouthful of heaven.  Not too chewy, and very flavorful.  I highly recommend this yummy treat.  If you are familiar with the story of C.S. Lewis' \"The Lion, The Witch, and The Wardrobe\" - this is the treat that seduces Edmund into selling out his Brother and Sisters to the Witch. \n\nCompound Score:  {'neg': 0.091, 'neu': 0.754, 'pos': 0.155, 'compound': 0.8265}\nOverall Sentiment: Positive \n\n------------------------------------------------------------------------------------------------\nIf you are looking for the secret ingredient in Robitussin I believe I have found it.  I got this in addition to the Root Beer Extract I ordered (which was good) and made some cherry soda.  The flavor is very medicinal. \n\nCompound Score:  {'neg': 0.0, 'neu': 1.0, 'pos': 0.0, 'compound': 0.0}\nOverall Sentiment: Neutral \n\n------------------------------------------------------------------------------------------------\nGreat taffy at a great price.  There was a wide assortment of yummy taffy.  Delivery was very quick.  If your a taffy lover, this is a deal. \n\nCompound Score:  {'neg': 0.0, 'neu': 0.552, 'pos': 0.448, 'compound': 0.9468}\nOverall Sentiment: Positive \n\n------------------------------------------------------------------------------------------------\nI got a wild hair for taffy and ordered this five pound bag. The taffy was all very enjoyable with many flavors: watermelon, root beer, melon, peppermint, grape, etc. My only complaint is there was a bit too much red/black licorice-flavored pieces (just not my particular favorites). Between me, my kids, and my husband, this lasted only two weeks! I would recommend this brand of taffy -- it was a delightful treat. \n\nCompound Score:  {'neg': 0.029, 'neu': 0.809, 'pos': 0.163, 'compound': 0.883}\nOverall Sentiment: Positive \n\n------------------------------------------------------------------------------------------------\nThis saltwater taffy had great flavors and was very soft and chewy.  Each candy was individually wrapped well.  None of the candies were stuck together, which did happen in the expensive version, Fralinger's.  Would highly recommend this candy!  I served it at a beach-themed party and everyone loved it! \n\nCompound Score:  {'neg': 0.034, 'neu': 0.693, 'pos': 0.273, 'compound': 0.9346}\nOverall Sentiment: Positive \n\n------------------------------------------------------------------------------------------------\nThis taffy is so good.  It is very soft and chewy.  The flavors are amazing.  I would definitely recommend you buying it.  Very satisfying!! \n\nCompound Score:  {'neg': 0.0, 'neu': 0.52, 'pos': 0.48, 'compound': 0.9487}\nOverall Sentiment: Positive \n\n------------------------------------------------------------------------------------------------\nRight now I'm mostly just sprouting this so my cats can eat the grass. They love it. I rotate it around with Wheatgrass and Rye too \n\nCompound Score:  {'neg': 0.0, 'neu': 0.851, 'pos': 0.149, 'compound': 0.6369}\nOverall Sentiment: Positive \n\n------------------------------------------------------------------------------------------------\nThis is a very healthy dog food. Good for their digestion. Also good for small puppies. My dog eats her required amount at every feeding. \n\nCompound Score:  {'neg': 0.0, 'neu': 0.705, 'pos': 0.295, 'compound': 0.8313}\nOverall Sentiment: Positive \n\n------------------------------------------------------------------------------------------------\n"
    }
   ],
   "source": [
    "\n",
    "\n",
    "# Data Analysis\n",
    "import pandas as pd\n",
    "\n",
    "# Sentiment Analysis\n",
    "from vaderSentiment.vaderSentiment import SentimentIntensityAnalyzer\n",
    "\n",
    "# Step 1: Read in data and print\n",
    "df = pd.read_csv('fine-food-reviews-ee.csv')\n",
    "# display(df.head())\n",
    "\n",
    "# Step 2: Retrieve the top 10 reviews for demonstration purposes\n",
    "df = df[:10]\n",
    "\n",
    "# Step 3: Convert 'Text' column to list\n",
    "review_list = df['Text'].tolist()\n",
    "# print(review_list)\n",
    "\n",
    "# Step 1: Initialise 'SentimentIntensityAnalyzer' object\n",
    "analyser = SentimentIntensityAnalyzer()\n",
    "\n",
    "# Step 2: Classify reviews by sentiment on *compound score*\n",
    "def sentiment_analyzer_scores(review_comments):\n",
    "    for i in review_comments:\n",
    "        score = analyser.polarity_scores(i)\n",
    "        if score['compound'] >= 0.05:\n",
    "            print(i, \"\\n\")\n",
    "            print(\"Compound Score: \", score)\n",
    "            print(\"Overall Sentiment: Positive\", \"\\n\")\n",
    "            print(\"------------------------------------------------------------------------------------------------\")\n",
    "        elif score['compound'] <= - 0.05:\n",
    "            print(i, \"\\n\")\n",
    "            print(\"Compound Score: \", score)\n",
    "            print(\"Overall Sentiment: Negative\", \"\\n\")\n",
    "            print(\"------------------------------------------------------------------------------------------------\")\n",
    "        else:\n",
    "            print(i, \"\\n\")\n",
    "            print(\"Compound Score: \", score)\n",
    "            print(\"Overall Sentiment: Neutral\", \"\\n\")\n",
    "            print(\"------------------------------------------------------------------------------------------------\")\n",
    "\n",
    "sentiment_scores = sentiment_analyzer_scores(review_list)\n"
   ]
  },
  {
   "cell_type": "markdown",
   "metadata": {},
   "source": [
    "Both the first and fourth comment have been classified as negative whereas the Tone Analyzer classified these two comments as frustrated and sad. Comments three and five have been classified as positive by VADER and IBM's tool has given a classification of satisfied and excited respectively. The second comment has been shown to be neutral. The benefit of IBM's Tone Analyzer is that of classifying through emotion rather than basic sentiment and in this case the second comment has been classified as both polite and sympathetic. As shown, the Tone Analyzer can classify more than one emotion to comments whereas VADER is limited to one of the three sentiments, i.e. positive, negative, neutral. "
   ]
  }
 ]
}